{
  "nbformat": 4,
  "nbformat_minor": 0,
  "metadata": {
    "colab": {
      "name": "linear_discriminant_analysis",
      "provenance": [],
      "collapsed_sections": [],
      "toc_visible": true,
      "include_colab_link": true
    },
    "kernelspec": {
      "name": "python3",
      "display_name": "Python 3"
    }
  },
  "cells": [
    {
      "cell_type": "markdown",
      "metadata": {
        "id": "view-in-github",
        "colab_type": "text"
      },
      "source": [
        "<a href=\"https://colab.research.google.com/github/beyzanurmentese/Machine-Learning/blob/main/linear_discriminant_analysis.ipynb\" target=\"_parent\"><img src=\"https://colab.research.google.com/assets/colab-badge.svg\" alt=\"Open In Colab\"/></a>"
      ]
    },
    {
      "cell_type": "markdown",
      "metadata": {
        "id": "VQ3syspj_rKn"
      },
      "source": [
        "# Linear Discriminant Analysis (LDA)"
      ]
    },
    {
      "cell_type": "code",
      "metadata": {
        "id": "pZIaYIbZikyc"
      },
      "source": [
        ""
      ],
      "execution_count": null,
      "outputs": []
    },
    {
      "cell_type": "markdown",
      "metadata": {
        "id": "xJGl9TcT_skx"
      },
      "source": [
        "## Importing the libraries"
      ]
    },
    {
      "cell_type": "code",
      "metadata": {
        "id": "BNEgrGwd_29D"
      },
      "source": [
        "import numpy as np\n",
        "import matplotlib.pyplot as plt\n",
        "import pandas as pd"
      ],
      "execution_count": null,
      "outputs": []
    },
    {
      "cell_type": "markdown",
      "metadata": {
        "id": "Hyp1gza1_6qX"
      },
      "source": [
        "## Importing the dataset"
      ]
    },
    {
      "cell_type": "code",
      "metadata": {
        "id": "lPLTDBVI__ZQ"
      },
      "source": [
        "dataset = pd.read_csv('Wine.csv')\n",
        "X = dataset.iloc[:, :-1].values\n",
        "y = dataset.iloc[:, -1].values"
      ],
      "execution_count": null,
      "outputs": []
    },
    {
      "cell_type": "markdown",
      "metadata": {
        "id": "3bUhSHktAcOe"
      },
      "source": [
        "## Splitting the dataset into the Training set and Test set"
      ]
    },
    {
      "cell_type": "code",
      "metadata": {
        "id": "L7hGLt1qAced",
        "colab": {
          "base_uri": "https://localhost:8080/"
        },
        "outputId": "aae174b5-132c-4f4f-dd6e-5803a7501e15"
      },
      "source": [
        "from sklearn.model_selection import train_test_split\n",
        "X_train, X_test, y_train, y_test = train_test_split(X, y, test_size = 0.2, random_state = 0)\n",
        "print(X_train)"
      ],
      "execution_count": null,
      "outputs": [
        {
          "output_type": "stream",
          "text": [
            "[[1.369e+01 3.260e+00 2.540e+00 ... 9.600e-01 1.820e+00 6.800e+02]\n",
            " [1.269e+01 1.530e+00 2.260e+00 ... 9.600e-01 2.060e+00 4.950e+02]\n",
            " [1.162e+01 1.990e+00 2.280e+00 ... 1.160e+00 2.960e+00 3.450e+02]\n",
            " ...\n",
            " [1.242e+01 1.610e+00 2.190e+00 ... 1.060e+00 2.960e+00 3.450e+02]\n",
            " [1.390e+01 1.680e+00 2.120e+00 ... 9.100e-01 3.330e+00 9.850e+02]\n",
            " [1.416e+01 2.510e+00 2.480e+00 ... 6.200e-01 1.710e+00 6.600e+02]]\n"
          ],
          "name": "stdout"
        }
      ]
    },
    {
      "cell_type": "markdown",
      "metadata": {
        "id": "1wrHODfJAEiI"
      },
      "source": [
        "## Feature Scaling"
      ]
    },
    {
      "cell_type": "code",
      "metadata": {
        "id": "W-UCD7ezAJG2",
        "colab": {
          "base_uri": "https://localhost:8080/"
        },
        "outputId": "2dfd0b8a-9aa3-47c8-c5c6-c2c4289ea7c4"
      },
      "source": [
        "from sklearn.preprocessing import StandardScaler\n",
        "sc = StandardScaler()\n",
        "X_train = sc.fit_transform(X_train)\n",
        "X_test = sc.transform(X_test)\n",
        "print(X_train)"
      ],
      "execution_count": null,
      "outputs": [
        {
          "output_type": "stream",
          "text": [
            "[[ 1.0264442  -0.87590291]\n",
            " [ 0.24554274  0.93984685]\n",
            " [ 0.17860344  1.3825025 ]\n",
            " [ 1.38113335 -0.90578821]\n",
            " [-1.10826326 -0.06766031]\n",
            " [-1.03259142 -0.5641425 ]\n",
            " [-0.15447099  1.39285244]\n",
            " [ 0.01165889  1.11649774]\n",
            " [ 0.28679248  1.52134763]\n",
            " [-1.07464765 -0.87962882]\n",
            " [ 1.08021936 -0.3707607 ]\n",
            " [-0.0433955   0.84340452]\n",
            " [ 1.04209255 -0.92755403]\n",
            " [-1.13248604 -1.26554916]\n",
            " [ 0.95782644 -0.33239439]\n",
            " [ 1.1209296  -0.46624249]\n",
            " [-1.02219244 -0.08479678]\n",
            " [ 1.61780812 -1.08585211]\n",
            " [-1.59782011 -0.38687181]\n",
            " [ 0.0669219   1.78150114]\n",
            " [ 1.44535323 -1.4596074 ]\n",
            " [ 1.01364968 -0.42709997]\n",
            " [-0.33844372  0.9809825 ]\n",
            " [ 1.02933001 -0.30674994]\n",
            " [ 1.49852006 -1.08841066]\n",
            " [-0.86653009 -0.56165913]\n",
            " [ 0.534827    0.21437179]\n",
            " [ 1.13129853  0.09950275]\n",
            " [-0.31128762  1.5010643 ]\n",
            " [ 0.53694191  0.28605049]\n",
            " [ 0.94141837 -0.68288275]\n",
            " [-0.13743441  0.52714606]\n",
            " [-1.19052329 -0.62025803]\n",
            " [ 0.70382835  1.12563441]\n",
            " [-0.3471449   1.04140998]\n",
            " [ 0.73434093  0.44490721]\n",
            " [-0.46225254 -0.24859991]\n",
            " [-1.58703299 -0.98948788]\n",
            " [-0.70289719  1.0335452 ]\n",
            " [-0.56153094  0.91628531]\n",
            " [ 1.59258321 -0.68786732]\n",
            " [ 1.65008033 -0.83589455]\n",
            " [ 0.32619872  1.77811471]\n",
            " [-0.3586094   1.39095311]\n",
            " [-0.00276202  1.63745551]\n",
            " [ 1.49785418 -1.20529623]\n",
            " [ 1.21485929 -0.17547811]\n",
            " [-1.13250827 -0.34407141]\n",
            " [ 1.52486963 -0.98820365]\n",
            " [-0.05993191  1.38047563]\n",
            " [ 0.13586339  1.15583122]\n",
            " [ 0.13413133  0.84370449]\n",
            " [-0.30398005  1.18089386]\n",
            " [ 0.09638327  1.47464152]\n",
            " [-1.36387282 -1.00710527]\n",
            " [-0.80712452 -0.59960147]\n",
            " [-0.29532053  1.17426195]\n",
            " [-1.76792573 -0.96134601]\n",
            " [ 1.24657202 -0.55751757]\n",
            " [-1.04326812 -0.24412193]\n",
            " [ 1.37765406 -0.56881625]\n",
            " [-1.18903216 -0.16261527]\n",
            " [-1.13317287 -1.3612933 ]\n",
            " [-0.12200944  1.03924558]\n",
            " [-1.48739645 -1.06948864]\n",
            " [-0.37472551  1.29585478]\n",
            " [ 0.02008277  1.25540798]\n",
            " [-1.43128678 -1.72989149]\n",
            " [ 1.23709792 -1.08934137]\n",
            " [ 0.08390626  0.93422204]\n",
            " [-1.46316967 -1.39496338]\n",
            " [ 0.17552322 -0.08066005]\n",
            " [ 0.32197084  1.29698351]\n",
            " [-0.22216903  0.91995846]\n",
            " [ 0.74000569 -0.03854334]\n",
            " [-1.23266884 -1.03229897]\n",
            " [ 1.50978745 -0.27914565]\n",
            " [ 1.6465694  -0.08698383]\n",
            " [-1.79507799 -1.60323451]\n",
            " [-1.54717697 -0.80159619]\n",
            " [ 0.37639176  1.14147614]\n",
            " [ 1.43783842 -1.04337673]\n",
            " [-1.23954932 -0.89908824]\n",
            " [-1.12864881 -0.96217026]\n",
            " [-0.01677249  1.17625886]\n",
            " [-0.12227837  0.76036625]\n",
            " [-1.01272546 -0.0723624 ]\n",
            " [-1.27233704 -1.11901406]\n",
            " [-0.81889037 -0.50399318]\n",
            " [ 1.28252649 -1.60286306]\n",
            " [-0.34974904  0.59339544]\n",
            " [-1.41992562 -0.5838227 ]\n",
            " [-0.49087979  0.95093082]\n",
            " [ 0.98335118 -0.55072479]\n",
            " [-1.60407075 -1.1268183 ]\n",
            " [-0.20642726  1.20670408]\n",
            " [ 1.1536909  -0.06121909]\n",
            " [ 1.33293865  0.02789333]\n",
            " [-1.10616306 -0.75171204]\n",
            " [-0.99716574  0.03317846]\n",
            " [ 1.19902076 -0.23370614]\n",
            " [-1.1776209  -1.40561117]\n",
            " [ 1.23406978 -0.08345565]\n",
            " [-0.04472794  1.71057655]\n",
            " [-0.94737052 -0.66875756]\n",
            " [-1.16788444 -0.46295957]\n",
            " [-0.18232338  1.20992772]\n",
            " [-1.2823979  -1.07503847]\n",
            " [ 1.29914929 -0.88626294]\n",
            " [ 0.22898682  1.37576936]\n",
            " [ 1.41063515 -0.55290794]\n",
            " [-1.08342262 -0.1394216 ]\n",
            " [ 1.01820249 -0.4783708 ]\n",
            " [ 1.25362294 -0.80727083]\n",
            " [ 1.39613327 -1.05108824]\n",
            " [-0.99532298 -0.4870736 ]\n",
            " [-0.47589557  1.68053879]\n",
            " [ 0.07639271  1.3001627 ]\n",
            " [-0.19058784  1.06580476]\n",
            " [-0.09757063  2.60452971]\n",
            " [ 1.4771818  -0.87464806]\n",
            " [ 1.65392076 -1.33077461]\n",
            " [ 0.12137965  0.7172439 ]\n",
            " [ 0.27654228  0.71096055]\n",
            " [-0.73655743 -0.09321379]\n",
            " [-0.66185427  0.67657029]\n",
            " [ 1.41260379 -1.05017041]\n",
            " [ 1.49630821 -1.33927913]\n",
            " [-1.03672713 -1.1143265 ]\n",
            " [-1.31753637 -1.09514721]\n",
            " [ 0.83161479 -0.52200349]\n",
            " [-0.02743821  0.8597682 ]\n",
            " [ 0.37356951  0.39519636]\n",
            " [ 0.04827596  1.45032491]\n",
            " [-0.91642566 -0.752483  ]\n",
            " [-0.59997735 -0.37762671]\n",
            " [-1.22363779 -0.69811607]\n",
            " [ 0.48446487  1.73099277]\n",
            " [-0.25913     1.18727143]\n",
            " [-0.05488384  1.65239243]\n",
            " [-1.20833258 -0.37518933]\n",
            " [ 1.30105633 -1.38974765]]\n"
          ],
          "name": "stdout"
        }
      ]
    },
    {
      "cell_type": "markdown",
      "metadata": {
        "id": "S3i3lRiwASAX"
      },
      "source": [
        "## Applying LDA"
      ]
    },
    {
      "cell_type": "code",
      "metadata": {
        "id": "TAi_sSw9AVzI",
        "colab": {
          "base_uri": "https://localhost:8080/"
        },
        "outputId": "3c985033-340d-4d72-c829-7215e8f4fd84"
      },
      "source": [
        "from sklearn.discriminant_analysis import LinearDiscriminantAnalysis as LDA\n",
        "lda = LDA(n_components = 2)\n",
        "X_train = lda.fit_transform(X_train, y_train)\n",
        "X_test = lda.transform(X_test)\n",
        "print(X_train)"
      ],
      "execution_count": null,
      "outputs": [
        {
          "output_type": "stream",
          "text": [
            "[[ 3.57315552 -1.94018924]\n",
            " [ 0.85475898  2.08182977]\n",
            " [ 0.62173655  3.06234453]\n",
            " [ 4.80786412 -2.00638739]\n",
            " [-3.8579759  -0.14987256]\n",
            " [-3.59455458 -1.24961706]\n",
            " [-0.53772906  3.0852704 ]\n",
            " [ 0.04058577  2.47312446]\n",
            " [ 0.99835348  3.36989668]\n",
            " [-3.74095658 -1.94844242]\n",
            " [ 3.76035226 -0.82126218]\n",
            " [-0.15106412  1.86820292]\n",
            " [ 3.62762899 -2.05460026]\n",
            " [-3.94229781 -2.80328429]\n",
            " [ 3.33429017 -0.73627798]\n",
            " [ 3.90206871 -1.03276135]\n",
            " [-3.55835472 -0.18783108]\n",
            " [ 5.63175281 -2.40524214]\n",
            " [-5.56217254 -0.85694946]\n",
            " [ 0.23296188  3.94615581]\n",
            " [ 5.03141997 -3.23313754]\n",
            " [ 3.52861651 -0.94605778]\n",
            " [-1.17815662  2.17294825]\n",
            " [ 3.58320131 -0.67947364]\n",
            " [ 5.21649905 -2.41090952]\n",
            " [-3.01647841 -1.24411621]\n",
            " [ 1.86178658  0.47484926]\n",
            " [ 3.93816398  0.2204059 ]\n",
            " [-1.0836235   3.32496762]\n",
            " [ 1.8691488   0.63362283]\n",
            " [ 3.27717205 -1.51263542]\n",
            " [-0.47842302  1.16766723]\n",
            " [-4.14433134 -1.37391708]\n",
            " [ 2.45009727  2.49336285]\n",
            " [-1.20844631  2.30679956]\n",
            " [ 2.55631466  0.98550214]\n",
            " [-1.6091476  -0.55066705]\n",
            " [-5.52462148 -2.19178828]\n",
            " [-2.44685583  2.28937848]\n",
            " [-1.95474568  2.02963924]\n",
            " [ 5.54394234 -1.5236766 ]\n",
            " [ 5.74409562 -1.85156779]\n",
            " [ 1.13553056  3.93865462]\n",
            " [-1.2483554   3.08106324]\n",
            " [-0.00961488  3.62708415]\n",
            " [ 5.21418108 -2.66981962]\n",
            " [ 4.2290474  -0.3886969 ]\n",
            " [-3.94237521 -0.76214343]\n",
            " [ 5.30822458 -2.18894363]\n",
            " [-0.20862902  3.05785486]\n",
            " [ 0.47295413  2.560251  ]\n",
            " [ 0.46692465  1.86886738]\n",
            " [-1.05818513  2.61576658]\n",
            " [ 0.33551985  3.26643922]\n",
            " [-4.74777848 -2.23081211]\n",
            " [-2.80968166 -1.32816126]\n",
            " [-1.02804047  2.60107642]\n",
            " [-6.15432728 -2.12945198]\n",
            " [ 4.33944259 -1.23494233]\n",
            " [-3.63172128 -0.54074799]\n",
            " [ 4.79575236 -1.25996976]\n",
            " [-4.13914056 -0.36020476]\n",
            " [-3.94468876 -3.0153646 ]\n",
            " [-0.42472714  2.30200526]\n",
            " [-5.17777666 -2.36899585]\n",
            " [-1.3044572   2.87041347]\n",
            " [ 0.06991014  2.78082083]\n",
            " [-4.98245326 -3.83183665]\n",
            " [ 4.3064623  -2.4129711 ]\n",
            " [ 0.29208614  2.06937039]\n",
            " [-5.0934408  -3.0899463 ]\n",
            " [ 0.61101399 -0.17866792]\n",
            " [ 1.12081287  2.87291369]\n",
            " [-0.77339273  2.03777551]\n",
            " [ 2.57603424 -0.08537633]\n",
            " [-4.29104423 -2.28661799]\n",
            " [ 5.255722   -0.61832811]\n",
            " [ 5.7318737  -0.19267558]\n",
            " [-6.24884704 -3.55128212]\n",
            " [-5.38587866 -1.77559442]\n",
            " [ 1.31025756  2.52845345]\n",
            " [ 5.00526015 -2.31115606]\n",
            " [-4.31499585 -1.99154644]\n",
            " [-3.92894005 -2.13127776]\n",
            " [-0.05838671  2.60549973]\n",
            " [-0.42566332  1.68426706]\n",
            " [-3.5253992  -0.16028802]\n",
            " [-4.42913323 -2.47869828]\n",
            " [-2.85063973 -1.1163819 ]\n",
            " [ 4.46460374 -3.55045935]\n",
            " [-1.21751159  1.31441447]\n",
            " [-4.94290391 -1.29321013]\n",
            " [-1.70880192  2.10638157]\n",
            " [ 3.42314438 -1.21989584]\n",
            " [-5.58393165 -2.49598525]\n",
            " [-0.71859407  2.67293812]\n",
            " [ 4.01611408 -0.13560479]\n",
            " [ 4.64009352  0.06178578]\n",
            " [-3.85066489 -1.66509736]\n",
            " [-3.47123425  0.07349273]\n",
            " [ 4.17391188 -0.51767626]\n",
            " [-4.09941682 -3.11353194]\n",
            " [ 4.29592104 -0.18486038]\n",
            " [-0.15570245  3.78905263]\n",
            " [-3.29789207 -1.48134709]\n",
            " [-4.0655232  -1.02548943]\n",
            " [-0.63468603  2.68007872]\n",
            " [-4.4641561  -2.38128912]\n",
            " [ 4.52246935 -1.96313747]\n",
            " [ 0.79712615  3.04743012]\n",
            " [ 4.91056287 -1.22473167]\n",
            " [-3.77150311 -0.30882908]\n",
            " [ 3.5444653  -1.05962644]\n",
            " [ 4.36398757 -1.78816415]\n",
            " [ 4.86008035 -2.32823762]\n",
            " [-3.46481941 -1.07890379]\n",
            " [-1.65664035  3.72251678]\n",
            " [ 0.26593072  2.87995582]\n",
            " [-0.66345544  2.36083579]\n",
            " [-0.33965319  5.76922451]\n",
            " [ 5.14221842 -1.93740967]\n",
            " [ 5.75746454 -2.94776345]\n",
            " [ 0.42253477  1.5887479 ]\n",
            " [ 0.96267148  1.57482982]\n",
            " [-2.5640305  -0.20647539]\n",
            " [-2.30398129  1.49865287]\n",
            " [ 4.91741587 -2.32620455]\n",
            " [ 5.20879938 -2.96660159]\n",
            " [-3.60895143 -2.468315  ]\n",
            " [-4.58647662 -2.42583146]\n",
            " [ 2.89493473 -1.15627605]\n",
            " [-0.09551518  1.90444969]\n",
            " [ 1.30043304  0.87538895]\n",
            " [ 0.16805348  3.21257614]\n",
            " [-3.19016989 -1.66680508]\n",
            " [-2.08858151 -0.83647089]\n",
            " [-4.25960623 -1.54637835]\n",
            " [ 1.68647094  3.83427605]\n",
            " [-0.9020576   2.62989337]\n",
            " [-0.19105618  3.66017053]\n",
            " [-4.20632725 -0.8310719 ]\n",
            " [ 4.52910794 -3.07839306]]\n"
          ],
          "name": "stdout"
        }
      ]
    },
    {
      "cell_type": "markdown",
      "metadata": {
        "id": "UBx16JVLAuel"
      },
      "source": [
        "## Training the Logistic Regression model on the Training set"
      ]
    },
    {
      "cell_type": "code",
      "metadata": {
        "id": "XDQahsqTAy44",
        "colab": {
          "base_uri": "https://localhost:8080/"
        },
        "outputId": "722ab0fa-0a46-40e1-9946-2c6821b5c629"
      },
      "source": [
        "from sklearn.linear_model import LogisticRegression\n",
        "classifier = LogisticRegression(random_state = 0)\n",
        "classifier.fit(X_train, y_train)"
      ],
      "execution_count": null,
      "outputs": [
        {
          "output_type": "execute_result",
          "data": {
            "text/plain": [
              "LogisticRegression(C=1.0, class_weight=None, dual=False, fit_intercept=True,\n",
              "                   intercept_scaling=1, l1_ratio=None, max_iter=100,\n",
              "                   multi_class='auto', n_jobs=None, penalty='l2',\n",
              "                   random_state=0, solver='lbfgs', tol=0.0001, verbose=0,\n",
              "                   warm_start=False)"
            ]
          },
          "metadata": {
            "tags": []
          },
          "execution_count": 6
        }
      ]
    },
    {
      "cell_type": "markdown",
      "metadata": {
        "id": "MTck416XBPnD"
      },
      "source": [
        "## Making the Confusion Matrix"
      ]
    },
    {
      "cell_type": "code",
      "metadata": {
        "id": "2LO7H5LsBS1b",
        "colab": {
          "base_uri": "https://localhost:8080/"
        },
        "outputId": "8305cf62-7df3-4ad9-d2e0-2ec5a9150b6d"
      },
      "source": [
        "from sklearn.metrics import confusion_matrix, accuracy_score\n",
        "y_pred = classifier.predict(X_test)\n",
        "cm = confusion_matrix(y_test, y_pred)\n",
        "print(cm)\n",
        "accuracy_score(y_test, y_pred)"
      ],
      "execution_count": null,
      "outputs": [
        {
          "output_type": "stream",
          "text": [
            "[[14  0  0]\n",
            " [ 0 16  0]\n",
            " [ 0  0  6]]\n"
          ],
          "name": "stdout"
        },
        {
          "output_type": "execute_result",
          "data": {
            "text/plain": [
              "1.0"
            ]
          },
          "metadata": {
            "tags": []
          },
          "execution_count": 7
        }
      ]
    },
    {
      "cell_type": "markdown",
      "metadata": {
        "id": "h6pZMBrUBXwb"
      },
      "source": [
        "## Visualising the Training set results"
      ]
    },
    {
      "cell_type": "code",
      "metadata": {
        "id": "FK_LpLOeBdQ4",
        "colab": {
          "base_uri": "https://localhost:8080/",
          "height": 366
        },
        "outputId": "b4232384-29f2-4d53-dc7d-c69a046f0bef"
      },
      "source": [
        "from matplotlib.colors import ListedColormap\n",
        "X_set, y_set = X_train, y_train\n",
        "X1, X2 = np.meshgrid(np.arange(start = X_set[:, 0].min() - 1, stop = X_set[:, 0].max() + 1, step = 0.01),\n",
        "                     np.arange(start = X_set[:, 1].min() - 1, stop = X_set[:, 1].max() + 1, step = 0.01))\n",
        "plt.contourf(X1, X2, classifier.predict(np.array([X1.ravel(), X2.ravel()]).T).reshape(X1.shape),\n",
        "             alpha = 0.75, cmap = ListedColormap(('red', 'green', 'blue')))\n",
        "plt.xlim(X1.min(), X1.max())\n",
        "plt.ylim(X2.min(), X2.max())\n",
        "for i, j in enumerate(np.unique(y_set)):\n",
        "    plt.scatter(X_set[y_set == j, 0], X_set[y_set == j, 1],\n",
        "                c = ListedColormap(('red', 'green', 'blue'))(i), label = j)\n",
        "plt.title('Logistic Regression (Training set)')\n",
        "plt.xlabel('LD1')\n",
        "plt.ylabel('LD2')\n",
        "plt.legend()\n",
        "plt.show()"
      ],
      "execution_count": null,
      "outputs": [
        {
          "output_type": "stream",
          "text": [
            "*c* argument looks like a single numeric RGB or RGBA sequence, which should be avoided as value-mapping will have precedence in case its length matches with *x* & *y*.  Please use the *color* keyword-argument or provide a 2-D array with a single row if you intend to specify the same RGB or RGBA value for all points.\n",
            "*c* argument looks like a single numeric RGB or RGBA sequence, which should be avoided as value-mapping will have precedence in case its length matches with *x* & *y*.  Please use the *color* keyword-argument or provide a 2-D array with a single row if you intend to specify the same RGB or RGBA value for all points.\n",
            "*c* argument looks like a single numeric RGB or RGBA sequence, which should be avoided as value-mapping will have precedence in case its length matches with *x* & *y*.  Please use the *color* keyword-argument or provide a 2-D array with a single row if you intend to specify the same RGB or RGBA value for all points.\n"
          ],
          "name": "stderr"
        },
        {
          "output_type": "display_data",
          "data": {
            "image/png": "[encoded data removed]",
            "text/plain": [
              "<Figure size 432x288 with 1 Axes>"
            ]
          },
          "metadata": {
            "tags": [],
            "needs_background": "light"
          }
        }
      ]
    },
    {
      "cell_type": "markdown",
      "metadata": {
        "id": "-Dbzx_KqBguX"
      },
      "source": [
        "## Visualising the Test set results"
      ]
    },
    {
      "cell_type": "code",
      "metadata": {
        "id": "kk07XbUHBl0W",
        "colab": {
          "base_uri": "https://localhost:8080/",
          "height": 366
        },
        "outputId": "c53d0ee5-4047-4cf0-9122-ec020ba3940e"
      },
      "source": [
        "from matplotlib.colors import ListedColormap\n",
        "X_set, y_set = X_test, y_test\n",
        "X1, X2 = np.meshgrid(np.arange(start = X_set[:, 0].min() - 1, stop = X_set[:, 0].max() + 1, step = 0.01),\n",
        "                     np.arange(start = X_set[:, 1].min() - 1, stop = X_set[:, 1].max() + 1, step = 0.01))\n",
        "plt.contourf(X1, X2, classifier.predict(np.array([X1.ravel(), X2.ravel()]).T).reshape(X1.shape),\n",
        "             alpha = 0.75, cmap = ListedColormap(('red', 'green', 'blue')))\n",
        "plt.xlim(X1.min(), X1.max())\n",
        "plt.ylim(X2.min(), X2.max())\n",
        "for i, j in enumerate(np.unique(y_set)):\n",
        "    plt.scatter(X_set[y_set == j, 0], X_set[y_set == j, 1],\n",
        "                c = ListedColormap(('red', 'green', 'blue'))(i), label = j)\n",
        "plt.title('Logistic Regression (Test set)')\n",
        "plt.xlabel('LD1')\n",
        "plt.ylabel('LD2')\n",
        "plt.legend()\n",
        "plt.show()"
      ],
      "execution_count": null,
      "outputs": [
        {
          "output_type": "stream",
          "text": [
            "*c* argument looks like a single numeric RGB or RGBA sequence, which should be avoided as value-mapping will have precedence in case its length matches with *x* & *y*.  Please use the *color* keyword-argument or provide a 2-D array with a single row if you intend to specify the same RGB or RGBA value for all points.\n",
            "*c* argument looks like a single numeric RGB or RGBA sequence, which should be avoided as value-mapping will have precedence in case its length matches with *x* & *y*.  Please use the *color* keyword-argument or provide a 2-D array with a single row if you intend to specify the same RGB or RGBA value for all points.\n",
            "*c* argument looks like a single numeric RGB or RGBA sequence, which should be avoided as value-mapping will have precedence in case its length matches with *x* & *y*.  Please use the *color* keyword-argument or provide a 2-D array with a single row if you intend to specify the same RGB or RGBA value for all points.\n"
          ],
          "name": "stderr"
        },
        {
          "output_type": "display_data",
          "data": {
            "image/png": "[encoded data removed]",
            "text/plain": [
              "<Figure size 432x288 with 1 Axes>"
            ]
          },
          "metadata": {
            "tags": [],
            "needs_background": "light"
          }
        }
      ]
    }
  ]
}